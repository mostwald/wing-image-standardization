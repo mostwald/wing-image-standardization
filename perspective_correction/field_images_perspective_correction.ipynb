{
  "cells": [
    {
      "cell_type": "code",
      "source": [
        "from google.colab import drive\n",
        "drive.mount('/content/drive')"
      ],
      "metadata": {
        "id": "xGLj7HCPf2XW",
        "outputId": "a9d46260-ecbc-4090-cf6e-a6aecb60ad4e",
        "colab": {
          "base_uri": "https://localhost:8080/"
        }
      },
      "id": "xGLj7HCPf2XW",
      "execution_count": 2,
      "outputs": [
        {
          "output_type": "stream",
          "name": "stdout",
          "text": [
            "Mounted at /content/drive\n"
          ]
        }
      ]
    },
    {
      "cell_type": "code",
      "execution_count": 3,
      "id": "a344b506-93f3-4b79-94e3-f1377f780dd4",
      "metadata": {
        "id": "a344b506-93f3-4b79-94e3-f1377f780dd4"
      },
      "outputs": [],
      "source": [
        "# import packages\n",
        "import numpy as np\n",
        "import os\n",
        "import cv2\n",
        "import matplotlib.pyplot as plt\n"
      ]
    },
    {
      "cell_type": "code",
      "source": [
        "# Define input folder\n",
        "image_folder_path = \"/content/drive/MyDrive/Big-Bee-Collaborative-Folder/Research_Projects/Bee Wing Variation and Imaging/amy_test_wing_images\"\n",
        "\n",
        "# Define output folder\n",
        "output_folder_path = \"/content/drive/MyDrive/Big-Bee-Collaborative-Folder/Research_Projects/Bee Wing Variation and Imaging/corrected_images\"\n",
        "\n",
        "# Create the output folder if it doesn't exist\n",
        "if not os.path.exists(output_folder_path):\n",
        "    os.makedirs(output_folder_path)"
      ],
      "metadata": {
        "id": "xxo8Lqupqfk_"
      },
      "id": "xxo8Lqupqfk_",
      "execution_count": 8,
      "outputs": []
    },
    {
      "cell_type": "code",
      "execution_count": 9,
      "id": "41b3073f-e035-41bc-8da3-203bd44a87e5",
      "metadata": {
        "id": "41b3073f-e035-41bc-8da3-203bd44a87e5",
        "outputId": "f1808fd8-d7fe-4945-f9ed-37700370c43c",
        "colab": {
          "base_uri": "https://localhost:8080/"
        }
      },
      "outputs": [
        {
          "output_type": "stream",
          "name": "stdout",
          "text": [
            "Skipping IMG_6433.JPG: found 2 markers\n"
          ]
        }
      ],
      "source": [
        "for image_path in os.listdir(image_folder_path):\n",
        "    image_file_path = os.path.join(image_folder_path, image_path)\n",
        "    if not os.path.isfile(image_file_path):\n",
        "        continue\n",
        "\n",
        "    try:\n",
        "        image = cv2.imread(image_file_path)\n",
        "        if image is None:\n",
        "            print(f\"Unable to read image: {image_path}\")\n",
        "            continue\n",
        "\n",
        "        gray = cv2.cvtColor(image, cv2.COLOR_BGR2GRAY)\n",
        "        corners = detect_markers(gray)\n",
        "\n",
        "        if len(corners) != 4:\n",
        "            print(f\"Skipping {image_path}: found {len(corners)} markers\")\n",
        "            continue\n",
        "\n",
        "        outer_corners = detect_outer_corners(corners)\n",
        "        straight_on_coords = np.array([[0, 0], [4000, 0], [0, 4000], [4000, 4000]])\n",
        "        M = cv2.getPerspectiveTransform(outer_corners.astype(np.float32), straight_on_coords.astype(np.float32))\n",
        "        corrected_image = cv2.warpPerspective(image, M, (4000, 4000))\n",
        "\n",
        "        out_path = os.path.join(output_folder_path, f\"{os.path.splitext(image_path)[0]}_corrected.jpeg\")\n",
        "        cv2.imwrite(out_path, corrected_image)\n",
        "\n",
        "    except Exception as e:\n",
        "        print(f\"Error correcting image: {image_path}\")\n",
        "        print(e)"
      ]
    }
  ],
  "metadata": {
    "kernelspec": {
      "display_name": "Python 3 (ipykernel)",
      "language": "python",
      "name": "python3"
    },
    "language_info": {
      "codemirror_mode": {
        "name": "ipython",
        "version": 3
      },
      "file_extension": ".py",
      "mimetype": "text/x-python",
      "name": "python",
      "nbconvert_exporter": "python",
      "pygments_lexer": "ipython3",
      "version": "3.11.7"
    },
    "colab": {
      "provenance": []
    }
  },
  "nbformat": 4,
  "nbformat_minor": 5
}